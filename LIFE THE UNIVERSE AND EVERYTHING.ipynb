{
 "cells": [
  {
   "cell_type": "code",
   "execution_count": null,
   "id": "3942edda",
   "metadata": {},
   "outputs": [],
   "source": [
    "A = True\n",
    "while A:\n",
    "    n=int(input())\n",
    "    if n!=42:\n",
    "        print(n)\n",
    "    else:\n",
    "        A=False"
   ]
  }
 ],
 "metadata": {
  "kernelspec": {
   "display_name": "Python 3",
   "language": "python",
   "name": "python3"
  },
  "language_info": {
   "codemirror_mode": {
    "name": "ipython",
    "version": 3
   },
   "file_extension": ".py",
   "mimetype": "text/x-python",
   "name": "python",
   "nbconvert_exporter": "python",
   "pygments_lexer": "ipython3",
   "version": "3.8.8"
  }
 },
 "nbformat": 4,
 "nbformat_minor": 5
}

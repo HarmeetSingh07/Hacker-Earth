{
 "cells": [
  {
   "cell_type": "code",
   "execution_count": null,
   "id": "cb71f80e",
   "metadata": {},
   "outputs": [],
   "source": [
    "n=int(input())\n",
    "a=list(map(int,input().split()))\n",
    "b=list(map(int,input().split())) \n",
    "c=True\n",
    "for i in range(n):  \n",
    "    x=min(a)\n",
    "    if a[i]>x:\n",
    "        y=(a[i]-b[i])\n",
    "        while c:\n",
    "            if y==x:\n",
    "                print(y)\n",
    "            elif y!=x:\n",
    "                y=a[i]-b[i]\n",
    "            elif y<0:\n",
    "                c==False\n",
    "            break\n",
    "    print(-1)"
   ]
  }
 ],
 "metadata": {
  "kernelspec": {
   "display_name": "Python 3",
   "language": "python",
   "name": "python3"
  },
  "language_info": {
   "codemirror_mode": {
    "name": "ipython",
    "version": 3
   },
   "file_extension": ".py",
   "mimetype": "text/x-python",
   "name": "python",
   "nbconvert_exporter": "python",
   "pygments_lexer": "ipython3",
   "version": "3.8.8"
  }
 },
 "nbformat": 4,
 "nbformat_minor": 5
}

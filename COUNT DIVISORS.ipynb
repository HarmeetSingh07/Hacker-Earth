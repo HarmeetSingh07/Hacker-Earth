{
 "cells": [
  {
   "cell_type": "code",
   "execution_count": null,
   "id": "7aac0e23",
   "metadata": {},
   "outputs": [],
   "source": [
    "x = list(map(int,input().split(' ')))\n",
    "a = 0\n",
    "for i in x:\n",
    "    for j in range(x[0],x[1]+1):\n",
    "        if j%x[2]==0:\n",
    "            a+=1\n",
    "    break\n",
    "print(a)"
   ]
  }
 ],
 "metadata": {
  "kernelspec": {
   "display_name": "Python 3",
   "language": "python",
   "name": "python3"
  },
  "language_info": {
   "codemirror_mode": {
    "name": "ipython",
    "version": 3
   },
   "file_extension": ".py",
   "mimetype": "text/x-python",
   "name": "python",
   "nbconvert_exporter": "python",
   "pygments_lexer": "ipython3",
   "version": "3.8.8"
  }
 },
 "nbformat": 4,
 "nbformat_minor": 5
}

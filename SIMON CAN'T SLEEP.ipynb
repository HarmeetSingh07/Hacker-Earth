{
 "cells": [
  {
   "cell_type": "code",
   "execution_count": null,
   "id": "0fea3df0",
   "metadata": {},
   "outputs": [],
   "source": [
    "x= input()\n",
    "y=''\n",
    "for i in x :\n",
    "    if i==':':\n",
    "        break\n",
    "    y+=i\n",
    "if y=='00':\n",
    "    print('1')\n",
    "else:\n",
    "    for j in y:\n",
    "        if j=='0':\n",
    "            y=y.replace('0','')\n",
    "    print(y)"
   ]
  }
 ],
 "metadata": {
  "kernelspec": {
   "display_name": "Python 3",
   "language": "python",
   "name": "python3"
  },
  "language_info": {
   "codemirror_mode": {
    "name": "ipython",
    "version": 3
   },
   "file_extension": ".py",
   "mimetype": "text/x-python",
   "name": "python",
   "nbconvert_exporter": "python",
   "pygments_lexer": "ipython3",
   "version": "3.8.8"
  }
 },
 "nbformat": 4,
 "nbformat_minor": 5
}

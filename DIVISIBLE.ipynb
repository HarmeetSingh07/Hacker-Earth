{
 "cells": [
  {
   "cell_type": "code",
   "execution_count": null,
   "id": "957bf46b",
   "metadata": {},
   "outputs": [],
   "source": [
    "N = int(input())\n",
    "A = list(map(int,input().split(' ')))\n",
    "j = 1\n",
    "a = ''\n",
    "for i in A:\n",
    "    i = str(i)\n",
    "    if j<=len(A)/2:\n",
    "        j+=1\n",
    "        a+=i[0]\n",
    "    else:\n",
    "        a+=i[-1]\n",
    "a = int(a)\n",
    "if a%11==0:\n",
    "    print('OUI')\n",
    "else:\n",
    "    print('NON')  "
   ]
  }
 ],
 "metadata": {
  "kernelspec": {
   "display_name": "Python 3",
   "language": "python",
   "name": "python3"
  },
  "language_info": {
   "codemirror_mode": {
    "name": "ipython",
    "version": 3
   },
   "file_extension": ".py",
   "mimetype": "text/x-python",
   "name": "python",
   "nbconvert_exporter": "python",
   "pygments_lexer": "ipython3",
   "version": "3.8.8"
  }
 },
 "nbformat": 4,
 "nbformat_minor": 5
}

{
 "cells": [
  {
   "cell_type": "code",
   "execution_count": null,
   "id": "e848cf46",
   "metadata": {},
   "outputs": [],
   "source": [
    "T=int(input())\n",
    "for i in range(T):\n",
    "    x=list(map(int,input().split()))\n",
    "    z=0\n",
    "    a=x[0]//x[2]\n",
    "    b=x[1]//x[2]\n",
    "    z+=(a+b)\n",
    "    if x[0]<x[2] and x[0]!=0:\n",
    "        z+=1\n",
    "    if x[1]<x[2] and x[1]!=0:\n",
    "        z+=1\n",
    "    if (x[0]%x[2])>0 and x[0]>x[2] :\n",
    "        z+=1\n",
    "    if (x[1]%x[2])>0 and x[1]>x[2]:\n",
    "        z+=1\n",
    "    print(z)"
   ]
  }
 ],
 "metadata": {
  "kernelspec": {
   "display_name": "Python 3",
   "language": "python",
   "name": "python3"
  },
  "language_info": {
   "codemirror_mode": {
    "name": "ipython",
    "version": 3
   },
   "file_extension": ".py",
   "mimetype": "text/x-python",
   "name": "python",
   "nbconvert_exporter": "python",
   "pygments_lexer": "ipython3",
   "version": "3.8.8"
  }
 },
 "nbformat": 4,
 "nbformat_minor": 5
}

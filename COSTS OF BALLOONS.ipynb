{
 "cells": [
  {
   "cell_type": "code",
   "execution_count": null,
   "id": "22cdecd1",
   "metadata": {},
   "outputs": [],
   "source": [
    "T = int(input())\n",
    "for i in range(T):\n",
    "    y=0\n",
    "    if i%2==0:\n",
    "        c = list(map(int,input().split()))\n",
    "        n = int(input())\n",
    "        for j in range(n):\n",
    "            x = list(map(int,input().split()))\n",
    "            a=c[0]*x[0]\n",
    "            b=c[1]*x[1]\n",
    "            x = (a+b)\n",
    "            y+=x\n",
    "        print(y)\n",
    "    else:\n",
    "        c = list(map(int,input().split()))\n",
    "        n = int(input())\n",
    "        for j in range(n):\n",
    "            x = list(map(int,input().split()))\n",
    "            a=c[0]*x[1]\n",
    "            b=c[1]*x[0]\n",
    "            x = (a+b)\n",
    "            y+=x\n",
    "        print(y)"
   ]
  }
 ],
 "metadata": {
  "kernelspec": {
   "display_name": "Python 3",
   "language": "python",
   "name": "python3"
  },
  "language_info": {
   "codemirror_mode": {
    "name": "ipython",
    "version": 3
   },
   "file_extension": ".py",
   "mimetype": "text/x-python",
   "name": "python",
   "nbconvert_exporter": "python",
   "pygments_lexer": "ipython3",
   "version": "3.8.8"
  }
 },
 "nbformat": 4,
 "nbformat_minor": 5
}

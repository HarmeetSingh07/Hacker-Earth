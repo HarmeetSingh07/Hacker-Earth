{
 "cells": [
  {
   "cell_type": "code",
   "execution_count": null,
   "id": "aaa29d8f",
   "metadata": {},
   "outputs": [],
   "source": [
    "S = input()\n",
    "x=''\n",
    "for i in S:\n",
    "    if i.isupper():\n",
    "        a = (i.lower())\n",
    "        x+=a\n",
    "    elif i.islower():\n",
    "        b = (i.upper())\n",
    "        x+=b\n",
    "print(x)"
   ]
  }
 ],
 "metadata": {
  "kernelspec": {
   "display_name": "Python 3",
   "language": "python",
   "name": "python3"
  },
  "language_info": {
   "codemirror_mode": {
    "name": "ipython",
    "version": 3
   },
   "file_extension": ".py",
   "mimetype": "text/x-python",
   "name": "python",
   "nbconvert_exporter": "python",
   "pygments_lexer": "ipython3",
   "version": "3.8.8"
  }
 },
 "nbformat": 4,
 "nbformat_minor": 5
}

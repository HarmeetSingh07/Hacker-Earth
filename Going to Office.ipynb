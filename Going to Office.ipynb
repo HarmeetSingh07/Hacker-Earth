{
 "cells": [
  {
   "cell_type": "markdown",
   "id": "d1eed93e",
   "metadata": {},
   "source": [
    "Alice has the following two types of taxis:\n",
    "\n",
    "        Online taxi: It can be booked by using an online application from phones \n",
    "        Classic taxi: It can be booked anywhere on the road\n",
    "\n",
    "The online taxis cost Oc for the first Of km and Od for every km afterward. The classic taxis travel at a speed of Cs km per minute. The cost of classic taxis are Cb, Cm, and Cd that represents the base fare, cost for every minute that is spent in the taxi, and cost for each kilometer that you ride.\n",
    "\n",
    "You are going to the office from your home. Your task is to minimize the cost that you are required to pay. The distance from your home to the office is D. You are required to select whether you want to use online or classic taxis to go to your office. If both the taxis cost the same, then you must use an online taxi."
   ]
  },
  {
   "cell_type": "code",
   "execution_count": null,
   "id": "f0c531b7",
   "metadata": {},
   "outputs": [],
   "source": [
    "D = int(input())\n",
    "O = list(map(int,input().split(' ')))\n",
    "C = list(map(int,input().split(' ')))\n",
    "a = O[0]+(D-O[1])*O[2]\n",
    "b = C[1]+((D/C[0])*C[2])+(D*C[3])\n",
    "if a<b:\n",
    "    print('Online Taxi')\n",
    "else:\n",
    "    print('Classic Taxi')"
   ]
  }
 ],
 "metadata": {
  "kernelspec": {
   "display_name": "Python 3",
   "language": "python",
   "name": "python3"
  },
  "language_info": {
   "codemirror_mode": {
    "name": "ipython",
    "version": 3
   },
   "file_extension": ".py",
   "mimetype": "text/x-python",
   "name": "python",
   "nbconvert_exporter": "python",
   "pygments_lexer": "ipython3",
   "version": "3.8.8"
  }
 },
 "nbformat": 4,
 "nbformat_minor": 5
}

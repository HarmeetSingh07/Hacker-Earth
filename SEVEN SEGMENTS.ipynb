{
 "cells": [
  {
   "cell_type": "code",
   "execution_count": null,
   "id": "b5cb53cc",
   "metadata": {},
   "outputs": [],
   "source": [
    "T=int(input())\n",
    "x={'0':6,'1':2,'2':5,'3':5,'4':4,'5':5,'6':6,'7':3,'8':7,'9':6}\n",
    "for i in range(T):\n",
    "    d=''\n",
    "    a=[]\n",
    "    N=input()\n",
    "    for j in N:\n",
    "        for k in j:\n",
    "            a.append(x[k])\n",
    "    a1=(sum(a))\n",
    "    if a1%2==0:\n",
    "        d+=('1'*(a1//2))\n",
    "    elif a1==2:\n",
    "        print('1')\n",
    "    else:\n",
    "        d+=('7'+('1'*((a1-3)//2)))\n",
    "    b= ''.join(sorted(d, reverse=True))\n",
    "    print(b)"
   ]
  }
 ],
 "metadata": {
  "kernelspec": {
   "display_name": "Python 3",
   "language": "python",
   "name": "python3"
  },
  "language_info": {
   "codemirror_mode": {
    "name": "ipython",
    "version": 3
   },
   "file_extension": ".py",
   "mimetype": "text/x-python",
   "name": "python",
   "nbconvert_exporter": "python",
   "pygments_lexer": "ipython3",
   "version": "3.8.8"
  }
 },
 "nbformat": 4,
 "nbformat_minor": 5
}

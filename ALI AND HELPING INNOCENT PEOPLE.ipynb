{
 "cells": [
  {
   "cell_type": "code",
   "execution_count": null,
   "id": "821820be",
   "metadata": {},
   "outputs": [],
   "source": [
    "A = input()\n",
    "for i in A:\n",
    "    if len(A)==9:\n",
    "        if i=='A' or i=='E' or i=='I' or i=='O' or i=='U' or i=='Y':\n",
    "            print('invalid')\n",
    "        elif i.isupper():\n",
    "            if (int(A[0])+int(A[1]))%2==0 and (int(A[3])+int(A[4]))%2==0 and (int(A[4])+int(A[5]))%2==0 and (int(A[7])+int(A[8]))%2==0:\n",
    "                print('valid')\n",
    "            else:\n",
    "                print('invalid')"
   ]
  }
 ],
 "metadata": {
  "kernelspec": {
   "display_name": "Python 3",
   "language": "python",
   "name": "python3"
  },
  "language_info": {
   "codemirror_mode": {
    "name": "ipython",
    "version": 3
   },
   "file_extension": ".py",
   "mimetype": "text/x-python",
   "name": "python",
   "nbconvert_exporter": "python",
   "pygments_lexer": "ipython3",
   "version": "3.8.8"
  }
 },
 "nbformat": 4,
 "nbformat_minor": 5
}

{
 "cells": [
  {
   "cell_type": "code",
   "execution_count": null,
   "id": "fc56c37b",
   "metadata": {},
   "outputs": [],
   "source": [
    "L = int(input())\n",
    "N = int(input())\n",
    "for i in range(N):\n",
    "    i = list(map(int,input().split(' ')))\n",
    "    if i[0]<L or i[1]<L:\n",
    "        print('UPLOAD ANOTHER')\n",
    "    elif i[0]==i[1]:\n",
    "        print('ACCEPTED')\n",
    "    elif i[0]>L or i[1]>L:\n",
    "        print('CROP IT')\n",
    "    else:\n",
    "        print('ACCEPTED')"
   ]
  }
 ],
 "metadata": {
  "kernelspec": {
   "display_name": "Python 3",
   "language": "python",
   "name": "python3"
  },
  "language_info": {
   "codemirror_mode": {
    "name": "ipython",
    "version": 3
   },
   "file_extension": ".py",
   "mimetype": "text/x-python",
   "name": "python",
   "nbconvert_exporter": "python",
   "pygments_lexer": "ipython3",
   "version": "3.8.8"
  }
 },
 "nbformat": 4,
 "nbformat_minor": 5
}
